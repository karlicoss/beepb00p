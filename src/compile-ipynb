#!/usr/bin/env python3
from argparse import ArgumentParser
from subprocess import check_call
from pathlib import Path
from tempfile import TemporaryDirectory
import shutil
import sys


def main():
    p = ArgumentParser()
    p.add_argument('--item'      , type=Path, required=True, help='temporary hack to output images separately')
    p.add_argument('--output-dir', type=Path, required=True, help='temporary hack to output images separately')
    args, rest = p.parse_known_args()

    with TemporaryDirectory() as tdir:
        run(Path(tdir), args, *rest)


def run(tdir: Path, args, *rest):
    item = args.item
    outdir = args.output_dir


    # reflect the logic in site.hs for now
    item = item.relative_to(Path('content'))
    if 'special' == item.parts[0]:
        # TODO chop it off since we're flattening 'special' hierarchy
        item = item.relative_to(Path('special'))
    outdir = outdir / item.parent

    stem = item.stem

    check_call([
        "jupyter", "nbconvert",
        "--execute",
        "--config", Path(__file__).parent / 'ipynbconfig.py',
        "--stdin",
        # right, looks like in --stdout mode notebook files are not output anywhere... 
        "--output-dir", str(tdir),
        "--output", stem,
        *rest,
    ])

    ff = tdir   / f'{stem}_files'
    tt = outdir / f'{stem}_files'
    if tt.exists():
        print("TODO need to cleanup outputs properly via hakyll", file=sys.stderr)
        shutil.rmtree(tt)
    if ff.exists():
        shutil.move(str(ff), str(tt))
    sys.stdout.write((tdir / (stem + '.html')).read_text())

if __name__ == '__main__':
    main()
