#!/usr/bin/env python3
from argparse import ArgumentParser
from subprocess import check_call
from pathlib import Path
from tempfile import TemporaryDirectory
import shutil
import sys


def main():
    p = ArgumentParser()
    p.add_argument('--item'      , type=Path, required=True, help='temporary hack to output images separately')
    p.add_argument('--output-dir', type=Path, required=True, help='temporary hack to output images separately')
    args = p.parse_args()

    with TemporaryDirectory() as tdir:
        run(Path(tdir), args)


def run(tdir: Path, args):
    item = args.item
    outdir = args.output_dir


    # reflect the logic in site.hs for now
    item = item.relative_to(Path('content'))
    if 'special' == item.parts[0]:
        # TODO chop it off since we're flattening 'special' hierarchy
        item = item.relative_to(Path('special'))
    outdir = outdir / item.parent

    stem = item.stem

    check_call([
        "jupyter", "nbconvert",
        "--execute",
        "--config", "misc/ipynbconfig.py",
        "--stdin",
        # right, looks like in --stdout mode notebook files are not output anywhere... 
        "--output-dir", str(tdir),
        "--output", stem,
    ])

    ff = tdir   / f'{stem}_files'
    tt = outdir / f'{stem}_files'
    # TODO need to be careful because hakyll wouldn't clean it in preview mode
    shutil.move(str(ff), str(tt))
    sys.stdout.write((tdir / (stem + '.html')).read_text())

if __name__ == '__main__':
    main()
